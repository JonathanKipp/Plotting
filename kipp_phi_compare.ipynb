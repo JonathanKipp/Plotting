{
 "cells": [
  {
   "cell_type": "code",
   "execution_count": 145,
   "metadata": {},
   "outputs": [],
   "source": [
    "import kipp_plotbib"
   ]
  },
  {
   "cell_type": "code",
   "execution_count": 142,
   "metadata": {},
   "outputs": [],
   "source": [
    "import numpy as np"
   ]
  },
  {
   "cell_type": "code",
   "execution_count": 149,
   "metadata": {},
   "outputs": [],
   "source": [
    "import re"
   ]
  },
  {
   "cell_type": "code",
   "execution_count": 182,
   "metadata": {},
   "outputs": [],
   "source": [
    "import matplotlib.pyplot as plt"
   ]
  },
  {
   "cell_type": "code",
   "execution_count": 205,
   "metadata": {},
   "outputs": [],
   "source": [
    "from matplotlib.backends.backend_pdf import PdfPages"
   ]
  },
  {
   "cell_type": "code",
   "execution_count": 207,
   "metadata": {},
   "outputs": [],
   "source": [
    "save_prefix = \"/Users/kipp/STB/weyl_figures/Weyl_figures/\""
   ]
  },
  {
   "cell_type": "code",
   "execution_count": 147,
   "metadata": {},
   "outputs": [],
   "source": [
    "def replacer(key,keymin,keymax,keystep,prefix,seedfname):\n",
    "\tkeyarr = np.linspace(keymin,keymax,keystep)\n",
    "\tfor num,val in enumerate(keyarr):\n",
    "\t\twith open(prefix + seedfname + '.cfg','rt') as fin:\n",
    "\t\t\twith open(prefix + seedfname + '_' + key +\"_{:02}.cfg\".format(num), \"wt\") as fout:\t\n",
    "\t\t\t\tfor line in fin:\n",
    "\t\t\t\t\t#print(re.search('(?<=' + key + '\\s=\\s)',line))\n",
    "\t\t\t\t\tline = re.sub('(?<=' + key + '\\s=\\s)',\"{:1.6f}\".format(val),line)\n",
    "\t\t\t\t\tline = re.sub('(?<=' + seedfname + ')','_' + key + \"_{:02}\".format(num),line)\n",
    "\t\t\t\t\t#line = line.replace(key, \"{:1.6f}\".format(val))\n",
    "\t\t\t\t\t#line = line.replace(seedfname,seedfname + \"_{:02}\".format(num))\n",
    "\t\t\t\t\tfout.write(line)"
   ]
  },
  {
   "cell_type": "code",
   "execution_count": 177,
   "metadata": {},
   "outputs": [],
   "source": [
    "prefix = \"/Users/kipp/STB/inis/\"\n",
    "theta = np.load(prefix + \"m_theta.npy\")\n",
    "seedfname = \"path_rel_G-K-Kprime\"\n",
    "Hankepath = '/Users/kipp/HankeCode/output/tbcode/out_rashbabands_09'\n",
    "stbpathzero = '/Users/kipp/STB/output/path_rel_G-K-Kprime_ferro_phi_00'\n",
    "stbpathpihalf = '/Users/kipp/STB/output/path_rel_G-K-Kprime_ferro_phi_01'\n",
    "stbpathpi = '/Users/kipp/STB/output/path_rel_G-K-Kprime_ferro_phi_02'"
   ]
  },
  {
   "cell_type": "code",
   "execution_count": 141,
   "metadata": {},
   "outputs": [],
   "source": [
    "keyword = 'ferro_phi'\n",
    "keyword2 = 't_so'\n",
    "keyword3 = 'lambda'"
   ]
  },
  {
   "cell_type": "code",
   "execution_count": 227,
   "metadata": {},
   "outputs": [],
   "source": [
    "replacer(key = keyword,keymin = 0,keymax = np.pi,keystep = 7,seedfname  = seedfname,prefix = prefix)"
   ]
  },
  {
   "cell_type": "code",
   "execution_count": 229,
   "metadata": {},
   "outputs": [],
   "source": [
    "ESTBzero = np.load(stbpathzero + '/band_E.npy')\n",
    "ESTBpihalf = np.load(stbpathpihalf + '/band_E.npy')\n",
    "ESTBpi = np.load(stbpathpi + '/band_E.npy')\n",
    "EHankezero = np.load(Hankepath + '/band_E.npy')[:4,1:899]"
   ]
  },
  {
   "cell_type": "code",
   "execution_count": 190,
   "metadata": {},
   "outputs": [],
   "source": [
    "def calc_tick_pos(n_sec, pts_per_sec):\n",
    "\tticks = np.zeros(n_sec+1)\n",
    "\tfor i in range(n_sec + 1):\n",
    "        \tticks[i] = (pts_per_sec - 1) * i\n",
    "\treturn ticks"
   ]
  },
  {
   "cell_type": "code",
   "execution_count": 191,
   "metadata": {},
   "outputs": [],
   "source": [
    "ticks = calc_tick_pos(3,300)\n",
    "label = [\"$\\Gamma$\", \"$K^{'}$\", \"K\", \"$\\Gamma$\"]"
   ]
  },
  {
   "cell_type": "code",
   "execution_count": 230,
   "metadata": {},
   "outputs": [
    {
     "data": {
      "image/png": "[encoded data removed]",
      "text/plain": [
       "<Figure size 432x288 with 3 Axes>"
      ]
     },
     "metadata": {
      "needs_background": "light"
     },
     "output_type": "display_data"
    }
   ],
   "source": [
    "fig,ax = plt.subplots(nrows = 1,ncols = 3,constrained_layout = True)\n",
    "k = np.arange(0,ESTBzero.shape[1])\n",
    "#axis1.plot(k,ESTB[3],'b',lw = 0.5,label = 'STB')\n",
    "#axis1.plot(k,EHanke[3],'r',lw = 0.5, label = \"Hanke\")\n",
    "anglestrings = ['0','30 deg.','60 deg.']\n",
    "labels = ['STB','Hanke']\n",
    "for j in range(3):\n",
    "    ax[j].set_aspect(150)\n",
    "    ax[j].set_xticks(ticks)\n",
    "    ax[j].set_xticklabels(label)\n",
    "    ax[j].set_ylabel('Energy [eV]')\n",
    "    ax[j].set_yticks(np.linspace(-4.5,4.5,7))\n",
    "    ax[j].set_title('$\\Phi_{STB} = $' + anglestrings[j])\n",
    "    ax[j].axvline(ticks[1],color = 'k',linewidth = '0.5')\n",
    "    ax[j].axvline(ticks[2],color = 'k',linewidth = '0.5')\n",
    "    handles, labels = plt.gca().get_legend_handles_labels()\n",
    "    labels, ids = np.unique(labels, return_index=True)\n",
    "    handles = [handles[i] for i in ids]\n",
    "    plt.legend(handles, labels, loc='best')\n",
    "    for l in range(4):\n",
    "        ax[j].plot(k,EHankezero[l], 'b',lw = 0.5,label = 'Hanke')\n",
    "\n",
    "    \n",
    "for j in range(4):\n",
    "    ax[0].plot(k,ESTBzero[j],'r',lw=0.5,label = 'STB')\n",
    "    ax[1].plot(k,ESTBpihalf[j],'r',lw=0.5,label = 'STB')\n",
    "    ax[2].plot(k,ESTBpi[j],'r',lw=0.5,label = 'STB')\n",
    "handles, labels = plt.gca().get_legend_handles_labels()\n",
    "labels, ids = np.unique(labels, return_index=True)\n",
    "handles = [handles[i] for i in ids]    \n",
    "for j in range(3):\n",
    "    ax[j].legend(handles, labels, loc='lower center')\n",
    "#for j in range(4):\n",
    "#    axis2.plot(k,ESTB[j] - EHanke[j],lw = 0.5,label = 'band no. {}'.format(j+1))\n",
    "#axis1.legend()\n",
    "#axis2.legend()\n",
    "with PdfPages(save_prefix + '2019-02-22_1_compare_STB_Hanke_phi.pdf') as pdf:\n",
    "    pdf.savefig(fig)"
   ]
  },
  {
   "cell_type": "code",
   "execution_count": null,
   "metadata": {},
   "outputs": [],
   "source": []
  }
 ],
 "metadata": {
  "kernelspec": {
   "display_name": "Python 3",
   "language": "python",
   "name": "python3"
  },
  "language_info": {
   "codemirror_mode": {
    "name": "ipython",
    "version": 3
   },
   "file_extension": ".py",
   "mimetype": "text/x-python",
   "name": "python",
   "nbconvert_exporter": "python",
   "pygments_lexer": "ipython3",
   "version": "3.7.2"
  }
 },
 "nbformat": 4,
 "nbformat_minor": 2
}
