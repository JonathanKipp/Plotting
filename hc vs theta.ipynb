{
 "cells": [
  {
   "cell_type": "code",
   "execution_count": 2,
   "metadata": {},
   "outputs": [],
   "source": [
    "import matplotlib.pyplot as plt\n",
    "import numpy as np\n",
    "import re\n",
    "from matplotlib.backends.backend_pdf import PdfPages\n",
    "from mpl_toolkits.axes_grid1.inset_locator import inset_axes"
   ]
  },
  {
   "cell_type": "code",
   "execution_count": null,
   "metadata": {},
   "outputs": [],
   "source": []
  },
  {
   "cell_type": "code",
   "execution_count": 4,
   "metadata": {},
   "outputs": [
    {
     "data": {
      "image/png": "[encoded data removed]",
      "text/plain": [
       "<Figure size 921.6x345.6 with 4 Axes>"
      ]
     },
     "metadata": {
      "needs_background": "light"
     },
     "output_type": "display_data"
    }
   ],
   "source": [
    "rownum,colnum = 1,2\n",
    "fig,ax = plt.subplots(nrows=rownum,ncols = colnum,figsize = (2*6.4,4.8))\n",
    "fig.suptitle('Hall conductance')\n",
    "ins_axes = np.array([],dtype = object)\n",
    "for numax,axes in enumerate(ax):\n",
    "    axes.set_xlabel(r'$\\sigma_{xy} (T) [\\frac{e^2}{h}]$')\n",
    "    axes.set_ylabel('Energy [eV]')\n",
    "    axes.xaxis.set_major_formatter(plt.ScalarFormatter(useOffset = True))\n",
    "    axes.xaxis.get_major_formatter().set_scientific(True)\n",
    "    axins = inset_axes(axes, width=1.3, height=0.9,loc = 'lower right')\n",
    "    ins_axes = np.append(ins_axes,axins)\n",
    "    axins.tick_params(tick1On = False,labelleft=False, labelbottom=False)\n",
    "    axins.set_title('Spin Configuration')\n",
    "    axins.set_xlim(-1.8,2.8)\n",
    "    axins.set_ylim(-1.2,1.2) "
   ]
  },
  {
   "cell_type": "code",
   "execution_count": 10,
   "metadata": {},
   "outputs": [
    {
     "ename": "IndexError",
     "evalue": "list assignment index out of range",
     "output_type": "error",
     "traceback": [
      "\u001b[0;31m---------------------------------------------------------------------------\u001b[0m",
      "\u001b[0;31mIndexError\u001b[0m                                Traceback (most recent call last)",
      "\u001b[0;32m<ipython-input-10-b42484ca4e54>\u001b[0m in \u001b[0;36m<module>\u001b[0;34m\u001b[0m\n\u001b[1;32m      1\u001b[0m \u001b[0mins_axes\u001b[0m \u001b[0;34m=\u001b[0m \u001b[0;34m[\u001b[0m\u001b[0;34m]\u001b[0m\u001b[0;34m\u001b[0m\u001b[0;34m\u001b[0m\u001b[0m\n\u001b[1;32m      2\u001b[0m \u001b[0;32mfor\u001b[0m \u001b[0mj\u001b[0m \u001b[0;32min\u001b[0m \u001b[0mrange\u001b[0m\u001b[0;34m(\u001b[0m\u001b[0;36m2\u001b[0m\u001b[0;34m)\u001b[0m\u001b[0;34m:\u001b[0m\u001b[0;34m\u001b[0m\u001b[0;34m\u001b[0m\u001b[0m\n\u001b[0;32m----> 3\u001b[0;31m     \u001b[0mins_axes\u001b[0m\u001b[0;34m[\u001b[0m\u001b[0mj\u001b[0m\u001b[0;34m]\u001b[0m \u001b[0;34m=\u001b[0m \u001b[0minset_axes\u001b[0m\u001b[0;34m(\u001b[0m\u001b[0max\u001b[0m\u001b[0;34m[\u001b[0m\u001b[0mj\u001b[0m\u001b[0;34m]\u001b[0m\u001b[0;34m,\u001b[0m \u001b[0mwidth\u001b[0m\u001b[0;34m=\u001b[0m\u001b[0;36m1.3\u001b[0m\u001b[0;34m,\u001b[0m \u001b[0mheight\u001b[0m\u001b[0;34m=\u001b[0m\u001b[0;36m0.9\u001b[0m\u001b[0;34m,\u001b[0m\u001b[0mloc\u001b[0m \u001b[0;34m=\u001b[0m \u001b[0;34m'upper left'\u001b[0m\u001b[0;34m)\u001b[0m\u001b[0;34m\u001b[0m\u001b[0;34m\u001b[0m\u001b[0m\n\u001b[0m\u001b[1;32m      4\u001b[0m '''axins.tick_params(tick1On = False,labelleft=False, labelbottom=False)\n\u001b[1;32m      5\u001b[0m \u001b[0maxins\u001b[0m\u001b[0;34m.\u001b[0m\u001b[0mset_title\u001b[0m\u001b[0;34m(\u001b[0m\u001b[0;34m'Spin Configuration'\u001b[0m\u001b[0;34m)\u001b[0m\u001b[0;34m\u001b[0m\u001b[0;34m\u001b[0m\u001b[0m\n",
      "\u001b[0;31mIndexError\u001b[0m: list assignment index out of range"
     ]
    }
   ],
   "source": [
    "ins_axes = []\n",
    "for j in range(2):\n",
    "    ins_axes[j] = inset_axes(ax[j], width=1.3, height=0.9,loc = 'upper left')\n",
    "'''axins.tick_params(tick1On = False,labelleft=False, labelbottom=False)\n",
    "axins.set_title('Spin Configuration')\n",
    "axins.set_xlim(-1.5,2.5)\n",
    "axins.set_ylim(-1.2,1.2)\n",
    "    m_theta = np.load(prefix + fname + '_{:02}/'.format(j) + 'm_theta.npy')\n",
    "    thetas = np.append(thetas,m_theta[0])\n",
    "    dx = 0.5*np.sin(m_theta)\n",
    "    dz = 0.5*np.cos(m_theta)\n",
    "    axins.arrow(1.15, 0, dx[0],dz[0], head_width=0.1, head_length=0.1,color = cm.get_cmap('plasma')(norm(j)))\n",
    "    axins.arrow(-0.15, 0, dx[1],dz[1], head_width=0.1, head_length=0.1,color = cm.get_cmap('plasma')(norm(j)))'''"
   ]
  },
  {
   "cell_type": "code",
   "execution_count": 41,
   "metadata": {},
   "outputs": [
    {
     "data": {
      "text/plain": [
       "array([<mpl_toolkits.axes_grid1.parasite_axes.AxesHostAxes object at 0x7f44933a3908>,\n",
       "       <mpl_toolkits.axes_grid1.parasite_axes.AxesHostAxes object at 0x7f44938e3e10>],\n",
       "      dtype=object)"
      ]
     },
     "execution_count": 41,
     "metadata": {},
     "output_type": "execute_result"
    }
   ],
   "source": [
    "ins_axes"
   ]
  },
  {
   "cell_type": "code",
   "execution_count": 34,
   "metadata": {},
   "outputs": [
    {
     "data": {
      "text/plain": [
       "array([<mpl_toolkits.axes_grid1.parasite_axes.AxesHostAxes object at 0x7f449323c2e8>],\n",
       "      dtype=object)"
      ]
     },
     "execution_count": 34,
     "metadata": {},
     "output_type": "execute_result"
    }
   ],
   "source": [
    "np.append(ins_axes,axins)"
   ]
  },
  {
   "cell_type": "code",
   "execution_count": 28,
   "metadata": {},
   "outputs": [],
   "source": [
    "a = [axins,axins]"
   ]
  },
  {
   "cell_type": "code",
   "execution_count": 29,
   "metadata": {},
   "outputs": [
    {
     "data": {
      "text/plain": [
       "array([<mpl_toolkits.axes_grid1.parasite_axes.AxesHostAxes object at 0x7f44931a5710>,\n",
       "       <mpl_toolkits.axes_grid1.parasite_axes.AxesHostAxes object at 0x7f44931a5710>,\n",
       "       <mpl_toolkits.axes_grid1.parasite_axes.AxesHostAxes object at 0x7f44931a5710>,\n",
       "       <mpl_toolkits.axes_grid1.parasite_axes.AxesHostAxes object at 0x7f44931a5710>],\n",
       "      dtype=object)"
      ]
     },
     "execution_count": 29,
     "metadata": {},
     "output_type": "execute_result"
    }
   ],
   "source": [
    "np.append(a,a)"
   ]
  },
  {
   "cell_type": "code",
   "execution_count": 30,
   "metadata": {},
   "outputs": [
    {
     "data": {
      "text/plain": [
       "array([<mpl_toolkits.axes_grid1.parasite_axes.AxesHostAxes object at 0x7f44931a5710>,\n",
       "       <mpl_toolkits.axes_grid1.parasite_axes.AxesHostAxes object at 0x7f44931a5710>],\n",
       "      dtype=object)"
      ]
     },
     "execution_count": 30,
     "metadata": {},
     "output_type": "execute_result"
    }
   ],
   "source": [
    "np.append([],a)"
   ]
  },
  {
   "cell_type": "code",
   "execution_count": 1,
   "metadata": {},
   "outputs": [],
   "source": [
    "import numpy as np"
   ]
  },
  {
   "cell_type": "code",
   "execution_count": 4,
   "metadata": {},
   "outputs": [],
   "source": [
    "offset = 5./180\n",
    "steps = 51\n",
    "ext = 1.0\n",
    "checker = 0\n",
    "start1 = 0.0\n",
    "start2 = 0.0\n",
    "temp = np.pi*(start1-offset + np.linspace(0,ext,steps))\n",
    "temp2 = np.pi*(start2+offset + np.linspace(0,ext,steps))"
   ]
  },
  {
   "cell_type": "code",
   "execution_count": null,
   "metadata": {},
   "outputs": [],
   "source": []
  }
 ],
 "metadata": {
  "kernelspec": {
   "display_name": "Python 3",
   "language": "python",
   "name": "python3"
  },
  "language_info": {
   "codemirror_mode": {
    "name": "ipython",
    "version": 3
   },
   "file_extension": ".py",
   "mimetype": "text/x-python",
   "name": "python",
   "nbconvert_exporter": "python",
   "pygments_lexer": "ipython3",
   "version": "3.7.3"
  }
 },
 "nbformat": 4,
 "nbformat_minor": 2
}
